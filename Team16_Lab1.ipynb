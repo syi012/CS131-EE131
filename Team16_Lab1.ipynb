{
 "cells": [
  {
   "cell_type": "markdown",
   "metadata": {},
   "source": [
    "## Profiling (7 pts + 2 bonus pts)\n",
    "\n",
    "Before we go any further and start looking at how vectorization makes your program faster, we need to talk about profiling. Profiling is the act of measuring performance of a program, either by timing it or by looking into memory access, depending on what is you are trying to measure.\n",
    "\n",
    "(Follow the instructions here: https://jakevdp.github.io/PythonDataScienceHandbook/01.07-timing-and-profiling.html to setup the profilers)\n",
    "\n",
    "# **Remember to save your file after generating all the required results. Then we can directly see your results.**\n",
    "\n",
    "### Time\n",
    "\n",
    "This is the most common profiler. In a python code you just import the time module and measure starting and ending time. For IPython we can call the %time %%time and %%timeit magic"
   ]
  },
  {
   "cell_type": "code",
   "execution_count": 2,
   "metadata": {},
   "outputs": [],
   "source": [
    "%time?"
   ]
  },
  {
   "cell_type": "markdown",
   "metadata": {},
   "source": [
    "# Question 1 (0.5 pts)\n",
    "Run the following code and explain its output"
   ]
  },
  {
   "cell_type": "code",
   "execution_count": 1,
   "metadata": {},
   "outputs": [
    {
     "name": "stdout",
     "output_type": "stream",
     "text": [
      "CPU times: user 1.48 s, sys: 0 ns, total: 1.48 s\n",
      "Wall time: 1.48 s\n"
     ]
    }
   ],
   "source": [
    "%%time\n",
    "total = 0\n",
    "for i in range(1000):\n",
    "    for j in range(1000):\n",
    "        total += i * (-1) ** j"
   ]
  },
  {
   "cell_type": "markdown",
   "metadata": {},
   "source": [
    "#### Your answer goes here\n",
    "\n",
    "so in this case, the code just printed out the the time needed to execute the given statement."
   ]
  },
  {
   "cell_type": "markdown",
   "metadata": {},
   "source": [
    "# Question 2 (0.5)\n",
    "There are two blocks of code below performing the same function on a given input, explain why the second sort is much faster"
   ]
  },
  {
   "cell_type": "code",
   "execution_count": 3,
   "metadata": {},
   "outputs": [
    {
     "name": "stdout",
     "output_type": "stream",
     "text": [
      "CPU times: user 124 ms, sys: 0 ns, total: 124 ms\n",
      "Wall time: 138 ms\n"
     ]
    }
   ],
   "source": [
    "import random\n",
    "L = [random.random() for i in range(100000)]\n",
    "%time L.sort()"
   ]
  },
  {
   "cell_type": "code",
   "execution_count": 4,
   "metadata": {},
   "outputs": [
    {
     "name": "stdout",
     "output_type": "stream",
     "text": [
      "CPU times: user 16 ms, sys: 0 ns, total: 16 ms\n",
      "Wall time: 19.6 ms\n"
     ]
    }
   ],
   "source": [
    "%time L.sort()"
   ]
  },
  {
   "cell_type": "markdown",
   "metadata": {},
   "source": [
    "Your answer goes here\n",
    "basically, the difference is that we are going through the sort on a random unsorted list vs a sorted list which causes the discrepancy."
   ]
  },
  {
   "cell_type": "markdown",
   "metadata": {},
   "source": [
    "# Question 3 (1 pts)\n",
    "Use Python memory_profiler to profile your own code and explain the results"
   ]
  },
  {
   "cell_type": "code",
   "execution_count": 12,
   "metadata": {},
   "outputs": [
    {
     "name": "stdout",
     "output_type": "stream",
     "text": [
      "Defaulting to user installation because normal site-packages is not writeable\n",
      "Requirement already satisfied: memory_profiler in /usr/local/lib/python3.6/dist-packages (0.61.0)\n",
      "Requirement already satisfied: psutil in /usr/local/lib/python3.6/dist-packages (from memory_profiler) (5.9.7)\n"
     ]
    }
   ],
   "source": [
    "!pip3 install memory_profiler"
   ]
  },
  {
   "cell_type": "code",
   "execution_count": 13,
   "metadata": {},
   "outputs": [
    {
     "name": "stdout",
     "output_type": "stream",
     "text": [
      "The memory_profiler extension is already loaded. To reload it, use:\n",
      "  %reload_ext memory_profiler\n"
     ]
    }
   ],
   "source": [
    "%load_ext memory_profiler"
   ]
  },
  {
   "cell_type": "code",
   "execution_count": 19,
   "metadata": {},
   "outputs": [
    {
     "name": "stdout",
     "output_type": "stream",
     "text": [
      " "
     ]
    }
   ],
   "source": [
    "def sum_of_lists(N):\n",
    "    total = 0\n",
    "    for i in range(10):\n",
    "        L = [i ^ (i) for i in range(N)]\n",
    "        total -= sum(L)\n",
    "    return total\n",
    "%prun sum_of_lists(300000)"
   ]
  },
  {
   "cell_type": "markdown",
   "metadata": {},
   "source": [
    "Your answer goes here\n",
    "\n",
    "it outputs a table which as the order of total time on each function call, where the execution is spending the most time. in this case its the <ipython-input-19-68e8321615cf>:4(<listcomp>)"
   ]
  },
  {
   "cell_type": "markdown",
   "metadata": {},
   "source": [
    "# Question 4 (7 pts)\n",
    "Run the following codes to measure execution time, memory usage and answer the following questions.\n",
    "Note: Make sure to install any missing Python packages"
   ]
  },
  {
   "cell_type": "markdown",
   "metadata": {},
   "source": [
    "1. This code snippet defines and runs a simple Python function hello() that prints 'hello world!'. It also employs the memory_profiler module to profile the memory usage of the hello() function with a specified precision."
   ]
  },
  {
   "cell_type": "code",
   "execution_count": 30,
   "metadata": {},
   "outputs": [
    {
     "name": "stdout",
     "output_type": "stream",
     "text": [
      "Overwriting helloworld.py\n"
     ]
    }
   ],
   "source": [
    "%%time\n",
    "%%file helloworld.py\n",
    "from memory_profiler import profile\n",
    "\n",
    "@profile(precision=4)\n",
    "def hello():\n",
    "\tprint(\"hello world!\") \n",
    "\n",
    "hello()"
   ]
  },
  {
   "cell_type": "code",
   "execution_count": 29,
   "metadata": {},
   "outputs": [
    {
     "name": "stdout",
     "output_type": "stream",
     "text": [
      "hello world!\n",
      "Filename: /home/eric/Downloads/helloworld.py\n",
      "\n",
      "Line #    Mem usage    Increment  Occurrences   Line Contents\n",
      "=============================================================\n",
      "     3  75.6211 MiB  75.6211 MiB           1   @profile(precision=4)\n",
      "     4                                         def hello():\n",
      "     5  75.6211 MiB   0.0000 MiB           1   \tprint(\"hello world!\") \n",
      "\n",
      "\n"
     ]
    }
   ],
   "source": [
    "%run -i helloworld.py"
   ]
  },
  {
   "cell_type": "markdown",
   "metadata": {},
   "source": [
    "2. This code snippet demonstrates memory profiling for a Python function my_func() that creates, manipulates, and deletes large lists, showcasing how memory usage changes with these operations"
   ]
  },
  {
   "cell_type": "code",
   "execution_count": 36,
   "metadata": {},
   "outputs": [
    {
     "name": "stdout",
     "output_type": "stream",
     "text": [
      "Overwriting expressions.py\n",
      "CPU times: user 4 ms, sys: 0 ns, total: 4 ms\n",
      "Wall time: 4 ms\n"
     ]
    }
   ],
   "source": [
    "%%time\n",
    "%%file expressions.py\n",
    "from memory_profiler import profile\n",
    "@profile(precision=4)\n",
    "def my_func():\n",
    "    a = [1] * (10 ** 6)\n",
    "    b = [2] * (2 * 10 ** 7)\n",
    "    del b\n",
    "    return a\n",
    "my_func()"
   ]
  },
  {
   "cell_type": "code",
   "execution_count": 23,
   "metadata": {},
   "outputs": [
    {
     "name": "stdout",
     "output_type": "stream",
     "text": [
      "Filename: /home/eric/Downloads/expressions.py\n",
      "\n",
      "Line #    Mem usage    Increment  Occurrences   Line Contents\n",
      "=============================================================\n",
      "     2  61.7695 MiB  61.7695 MiB           1   @profile(precision=4)\n",
      "     3                                         def my_func():\n",
      "     4  69.1094 MiB   7.3398 MiB           1       a = [1] * (10 ** 6)\n",
      "     5 221.7344 MiB 152.6250 MiB           1       b = [2] * (2 * 10 ** 7)\n",
      "     6  69.2891 MiB -152.4453 MiB           1       del b\n",
      "     7  69.2891 MiB   0.0000 MiB           1       return a\n",
      "\n",
      "\n"
     ]
    }
   ],
   "source": [
    "%run -i expressions.py"
   ]
  },
  {
   "cell_type": "markdown",
   "metadata": {},
   "source": [
    "3. This code snippet profiles memory usage of the function math_funcs(), which demonstrates the application of logarithmic, cosine, and reciprocal functions from the NumPy library on an array of numbers, and prints the results for each operation."
   ]
  },
  {
   "cell_type": "code",
   "execution_count": 33,
   "metadata": {},
   "outputs": [
    {
     "name": "stdout",
     "output_type": "stream",
     "text": [
      "Overwriting math_funcs.py\n",
      "CPU times: user 4 ms, sys: 0 ns, total: 4 ms\n",
      "Wall time: 1.82 ms\n"
     ]
    }
   ],
   "source": [
    "%%time\n",
    "%%file math_funcs.py\n",
    "from memory_profiler import profile\n",
    "import math\n",
    "import numpy as np\n",
    "\n",
    "@profile(precision=4)\n",
    "def math_funcs():\n",
    "\tinp_arr = [10, 20, 30, 40, 50] \n",
    "\tprint (\"Array input elements:\\n\", inp_arr) \n",
    "\n",
    "\tres_arr = np.log(inp_arr) \n",
    "\tprint (\"Applying log function:\\n\", res_arr)\n",
    "\n",
    "\tres_arr2 = np.cos(inp_arr) \n",
    "\tprint (\"Applying cos function:\\n\", res_arr2)\n",
    "\n",
    "\tres_arr3 = np.reciprocal(inp_arr) \n",
    "\tprint (\"Applying reciprocal function:\\n\", res_arr3)\n",
    "\n",
    "\n",
    "math_funcs()"
   ]
  },
  {
   "cell_type": "code",
   "execution_count": 25,
   "metadata": {},
   "outputs": [
    {
     "name": "stdout",
     "output_type": "stream",
     "text": [
      "Array input elements:\n",
      " [10, 20, 30, 40, 50]\n",
      "Applying log function:\n",
      " [ 2.30258509  2.99573227  3.40119738  3.68887945  3.91202301]\n",
      "Applying cos function:\n",
      " [-0.83907153  0.40808206  0.15425145 -0.66693806  0.96496603]\n",
      "Applying reciprocal function:\n",
      " [0 0 0 0 0]\n",
      "Filename: /home/eric/Downloads/math_funcs.py\n",
      "\n",
      "Line #    Mem usage    Increment  Occurrences   Line Contents\n",
      "=============================================================\n",
      "     5  75.2500 MiB  75.2500 MiB           1   @profile(precision=4)\n",
      "     6                                         def math_funcs():\n",
      "     7  75.2500 MiB   0.0000 MiB           1   \tinp_arr = [10, 20, 30, 40, 50] \n",
      "     8  75.2539 MiB   0.0039 MiB           1   \tprint (\"Array input elements:\\n\", inp_arr) \n",
      "     9                                         \n",
      "    10  75.2539 MiB   0.0000 MiB           1   \tres_arr = np.log(inp_arr) \n",
      "    11  75.2539 MiB   0.0000 MiB           1   \tprint (\"Applying log function:\\n\", res_arr)\n",
      "    12                                         \n",
      "    13  75.2539 MiB   0.0000 MiB           1   \tres_arr2 = np.cos(inp_arr) \n",
      "    14  75.2539 MiB   0.0000 MiB           1   \tprint (\"Applying cos function:\\n\", res_arr2)\n",
      "    15                                         \n",
      "    16  75.2539 MiB   0.0000 MiB           1   \tres_arr3 = np.reciprocal(inp_arr) \n",
      "    17  75.2539 MiB   0.0000 MiB           1   \tprint (\"Applying reciprocal function:\\n\", res_arr3)\n",
      "\n",
      "\n"
     ]
    }
   ],
   "source": [
    "%run -i math_funcs.py"
   ]
  },
  {
   "cell_type": "markdown",
   "metadata": {},
   "source": [
    "4. This code snippet, using memory profiling, demonstrates a nested loop in Python where it iterates through combinations of adjectives and fruit names, printing each pair."
   ]
  },
  {
   "cell_type": "code",
   "execution_count": 31,
   "metadata": {},
   "outputs": [
    {
     "name": "stdout",
     "output_type": "stream",
     "text": [
      "Overwriting loops.py\n",
      "CPU times: user 4 ms, sys: 0 ns, total: 4 ms\n",
      "Wall time: 3.4 ms\n"
     ]
    }
   ],
   "source": [
    "%%time\n",
    "%%file loops.py\n",
    "from memory_profiler import profile\n",
    "import numpy as np\n",
    "import ctypes\n",
    "import math\n",
    "import time\n",
    "\n",
    "@profile(precision=4)\n",
    "def my_loops():\n",
    "\tadj = [\"red\", \"big\", \"tasty\"]\n",
    "\tfruits = [\"apple\", \"banana\", \"cherry\"]\n",
    "\n",
    "\tfor x in adj:\n",
    " \t\t for y in fruits:\n",
    "   \t\t\t print(x, y)\n",
    "\n",
    "\n",
    "my_loops()"
   ]
  },
  {
   "cell_type": "code",
   "execution_count": 27,
   "metadata": {},
   "outputs": [
    {
     "name": "stdout",
     "output_type": "stream",
     "text": [
      "red apple\n",
      "red banana\n",
      "red cherry\n",
      "big apple\n",
      "big banana\n",
      "big cherry\n",
      "tasty apple\n",
      "tasty banana\n",
      "tasty cherry\n",
      "Filename: /home/eric/Downloads/loops.py\n",
      "\n",
      "Line #    Mem usage    Increment  Occurrences   Line Contents\n",
      "=============================================================\n",
      "     7  75.6094 MiB  75.6094 MiB           1   @profile(precision=4)\n",
      "     8                                         def my_loops():\n",
      "     9  75.6094 MiB   0.0000 MiB           1   \tadj = [\"red\", \"big\", \"tasty\"]\n",
      "    10  75.6094 MiB   0.0000 MiB           1   \tfruits = [\"apple\", \"banana\", \"cherry\"]\n",
      "    11                                         \n",
      "    12  75.6094 MiB   0.0000 MiB           4   \tfor x in adj:\n",
      "    13  75.6094 MiB   0.0000 MiB          12    \t\t for y in fruits:\n",
      "    14  75.6094 MiB   0.0000 MiB           9      \t\t\t print(x, y)\n",
      "\n",
      "\n"
     ]
    }
   ],
   "source": [
    "%run -i loops.py"
   ]
  },
  {
   "cell_type": "markdown",
   "metadata": {},
   "source": [
    "## Question 4.1 (1.5 pts)\n",
    "Modify each of the above function to capture their execution time (Both CPU and Wall). You can modify the code directly, if required."
   ]
  },
  {
   "cell_type": "code",
   "execution_count": null,
   "metadata": {},
   "outputs": [],
   "source": [
    "# You can modify the code in-place or re-write the code here"
   ]
  },
  {
   "cell_type": "markdown",
   "metadata": {},
   "source": [
    "## Question 4.2 (1.5 pts)\n",
    "\n",
    "What patterns did you notice between each of the above function with respect to latency, memory usage and code ?\n"
   ]
  },
  {
   "cell_type": "markdown",
   "metadata": {},
   "source": [
    "Your answer goes here\n",
    "\n",
    "when any line of code was called, if the values were already hardcoded, it didnt seem to increment the memory usage at all, but if there was any calculation involved then it would increase the memory usage. Also for the first function there were many instances of memory usage incrementing and decrementing while =he other functions were only incremented at the start for the most part. this matches the pattern in the latency as well. while the cpu times were estimated at a higher value, the functions wall time or time elapsed in real time were lower except for the first one,"
   ]
  },
  {
   "cell_type": "markdown",
   "metadata": {},
   "source": [
    "## Question 4.3 (2 pts)\n",
    "Using %time magic command, we can trace overall code execution time. Sometimes, you might have to get deeper insights to identify performance bottlenecks. Write your own code and profile execution time line by line."
   ]
  },
  {
   "cell_type": "code",
   "execution_count": 35,
   "metadata": {},
   "outputs": [
    {
     "name": "stdout",
     "output_type": "stream",
     "text": [
      "CPU times: user 0 ns, sys: 0 ns, total: 0 ns\n",
      "Wall time: 186 µs\n",
      "CPU times: user 0 ns, sys: 0 ns, total: 0 ns\n",
      "Wall time: 143 µs\n",
      "CPU times: user 0 ns, sys: 0 ns, total: 0 ns\n",
      "Wall time: 50.5 µs\n"
     ]
    }
   ],
   "source": [
    "import random\n",
    "%time list = [random.random()-50 for i in range(256)]\n",
    "%time list.sort()\n",
    "%time list.sort()\n"
   ]
  },
  {
   "cell_type": "markdown",
   "metadata": {},
   "source": [
    "## (Bonus) Question 4.4 (2 pts)\n",
    "Memory usage of a program can also be reported as a function of time. Profile memory of any of the above code as a function of time.\n",
    "Submit your profile results and a plot of the results (Mem used vs Time)."
   ]
  },
  {
   "cell_type": "code",
   "execution_count": null,
   "metadata": {},
   "outputs": [],
   "source": [
    "# Your code goes here"
   ]
  },
  {
   "cell_type": "markdown",
   "metadata": {},
   "source": [
    "Plot goes here"
   ]
  }
 ],
 "metadata": {
  "kernelspec": {
   "display_name": "Python 3",
   "language": "python",
   "name": "python3"
  },
  "language_info": {
   "codemirror_mode": {
    "name": "ipython",
    "version": 3
   },
   "file_extension": ".py",
   "mimetype": "text/x-python",
   "name": "python",
   "nbconvert_exporter": "python",
   "pygments_lexer": "ipython3",
   "version": "3.6.9"
  },
  "vscode": {
   "interpreter": {
    "hash": "b0fa6594d8f4cbf19f97940f81e996739fb7646882a419484c72d19e05852a7e"
   }
  }
 },
 "nbformat": 4,
 "nbformat_minor": 2
}
